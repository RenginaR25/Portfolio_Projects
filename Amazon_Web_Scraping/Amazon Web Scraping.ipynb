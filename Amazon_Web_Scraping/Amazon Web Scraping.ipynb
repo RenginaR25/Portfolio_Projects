{
 "cells": [
  {
   "cell_type": "markdown",
   "id": "9f5bd6a5-6e09-421a-8061-a2d403a418dc",
   "metadata": {},
   "source": [
    "## Scraping Amazon Product Information using Beautiful Soup\n",
    "Web scraping is a data extraction method used to exclusively gather data from websites. It is widely used for Data mining or collecting valuable insights from large websites. Web scraping comes in handy for personal use as well."
   ]
  },
  {
   "cell_type": "code",
   "execution_count": 137,
   "id": "dc2ceab2-e94a-42d9-a475-04cc9c4235bc",
   "metadata": {},
   "outputs": [],
   "source": [
    "# import libraries\n",
    "from bs4 import BeautifulSoup\n",
    "import requests\n",
    "import time\n",
    "import datetime\n",
    "\n",
    "import smtplib"
   ]
  },
  {
   "cell_type": "code",
   "execution_count": 139,
   "id": "62b282d2-2eb1-43de-86db-3bf5e444c65d",
   "metadata": {},
   "outputs": [
    {
     "name": "stdout",
     "output_type": "stream",
     "text": [
      "POXIMI Women Winter Earmuffs Girl Ski Adjustable Ear Covers for Cute Bow Ear Warmer Outdoor Earmuff Fleece Lining\n",
      "\n",
      "\n",
      "    $26.99    $26.99          \n"
     ]
    }
   ],
   "source": [
    "#Connect to Website and extract data\n",
    "URL = \"https://www.amazon.ca/Earmuffs-Adjustable-Outdoor-Earmuff-C-khaki/dp/B09BQT7BK1/?_encoding=UTF8&pd_rd_w=SMAm9&content-id=amzn1.sym.362b3f94-61a5-427d-902c-f1818e24a50a&pf_rd_p=362b3f94-61a5-427d-902c-f1818e24a50a&pf_rd_r=B6CTRE4GG99W9ZMN2JQN&pd_rd_wg=KVs97&pd_rd_r=015d83cc-3731-4ab8-aad8-33e556724396&ref_=pd_hp_d_btf_cr_cartx\"\n",
    "\n",
    "headers = {\"User-Agent\": \"Mozilla/5.0 (Windows NT 10.0; Win64; x64) AppleWebKit/537.36 (KHTML, like Gecko) Chrome/122.0.0.0 Safari/537.36\", \"Accept-Encoding\":\"gzip, deflate\", \"Accept\":\"text/html,application/xhtml+xml,application/xml;q=0.9,*/*;q=0.8\", \"DNT\":\"1\",\"Connection\":\"close\", \"Upgrade-Insecure-Requests\":\"1\"}\n",
    "\n",
    "page = requests.get(URL, headers=headers)\n",
    "\n",
    "soup = BeautifulSoup(page.content,'lxml')\n",
    "\n",
    "title = soup.find(id='productTitle').get_text(strip=True)\n",
    "price = soup.find( id='corePriceDisplay_desktop_feature_div').get_text()\n",
    "\n",
    "print(title)\n",
    "print(price)"
   ]
  },
  {
   "cell_type": "code",
   "execution_count": 141,
   "id": "baff81f8-044c-41a3-9de1-8ce8c964e45b",
   "metadata": {},
   "outputs": [
    {
     "name": "stdout",
     "output_type": "stream",
     "text": [
      "POXIMI Women Winter Earmuffs Girl Ski Adjustable Ear Covers for Cute Bow Ear Warmer Outdoor Earmuff Fleece Lining\n",
      "26.99\n"
     ]
    }
   ],
   "source": [
    "#process the data\n",
    "title=title.strip()\n",
    "price = price.strip()[11:]\n",
    "print(title)\n",
    "print(price)"
   ]
  },
  {
   "cell_type": "code",
   "execution_count": 169,
   "id": "1e6cdca6-4fcb-4e4a-b135-9257c5a6ab40",
   "metadata": {},
   "outputs": [
    {
     "name": "stdout",
     "output_type": "stream",
     "text": [
      "2025-02-26\n"
     ]
    }
   ],
   "source": [
    "#Find Today's date\n",
    "import datetime\n",
    "today = datetime.date.today()\n",
    "print(today)"
   ]
  },
  {
   "cell_type": "code",
   "execution_count": 171,
   "id": "94a29b27-7661-40eb-b3d4-f4b9f039cb83",
   "metadata": {},
   "outputs": [],
   "source": [
    "#Create csv file and write the data\n",
    "import csv\n",
    "header = ['Title', 'Price', 'Date']\n",
    "data =[title, price, today]\n",
    "\n",
    "#with open('AmazonWebScraperDataset.csv', 'w', newline ='', encoding='UTF8') as f:\n",
    "    #writer = csv.writer(f)\n",
    "    #writer.writerow(header)\n",
    "    #writer.writerow(data)"
   ]
  },
  {
   "cell_type": "code",
   "execution_count": 181,
   "id": "14a593b9-800a-4b30-84ce-c65bcf34288e",
   "metadata": {},
   "outputs": [
    {
     "name": "stdout",
     "output_type": "stream",
     "text": [
      "                                               Title  Price        Date\n",
      "0  POXIMI Women Winter Earmuffs Girl Ski Adjustab...  26.99  2025-02-26\n",
      "1  POXIMI Women Winter Earmuffs Girl Ski Adjustab...  26.99  2025-02-26\n",
      "2  POXIMI Women Winter Earmuffs Girl Ski Adjustab...  26.99  2025-02-26\n"
     ]
    }
   ],
   "source": [
    "# Read csv file and create data frame\n",
    "import pandas as pd\n",
    "df = pd.read_csv(r'C:\\Users\\rreng\\AmazonWebScraperDataset.csv')\n",
    "print(df)"
   ]
  },
  {
   "cell_type": "code",
   "execution_count": 179,
   "id": "48a82d8b-44a5-4734-a6a9-c899bedf1e86",
   "metadata": {},
   "outputs": [],
   "source": [
    "#Appending data to the csv file\n",
    "with open('AmazonWebScraperDataset.csv', 'a+', newline ='', encoding='UTF8') as f:\n",
    "    writer = csv.writer(f)\n",
    "    writer.writerow(data)"
   ]
  },
  {
   "cell_type": "code",
   "execution_count": 183,
   "id": "52c90498-1e92-44e8-9b30-4a2d95586eb2",
   "metadata": {},
   "outputs": [],
   "source": [
    "#Price checker\n",
    "def price_check():\n",
    "    URL = \"https://www.amazon.ca/Earmuffs-Adjustable-Outdoor-Earmuff-C-khaki/dp/B09BQT7BK1/?_encoding=UTF8&pd_rd_w=SMAm9&content-id=amzn1.sym.362b3f94-61a5-427d-902c-f1818e24a50a&pf_rd_p=362b3f94-61a5-427d-902c-f1818e24a50a&pf_rd_r=B6CTRE4GG99W9ZMN2JQN&pd_rd_wg=KVs97&pd_rd_r=015d83cc-3731-4ab8-aad8-33e556724396&ref_=pd_hp_d_btf_cr_cartx\"\n",
    "\n",
    "    headers = {\"User-Agent\": \"Mozilla/5.0 (Windows NT 10.0; Win64; x64) AppleWebKit/537.36 (KHTML, like Gecko) Chrome/122.0.0.0 Safari/537.36\", \"Accept-Encoding\":\"gzip, deflate\", \"Accept\":\"text/html,application/xhtml+xml,application/xml;q=0.9,*/*;q=0.8\", \"DNT\":\"1\",\"Connection\":\"close\", \"Upgrade-Insecure-Requests\":\"1\"}\n",
    "\n",
    "    page = requests.get(URL, headers=headers)\n",
    "\n",
    "    soup = BeautifulSoup(page.content,'lxml')\n",
    "\n",
    "    title = soup.find(id='productTitle').get_text(strip=True)\n",
    "    price = soup.find( id='corePriceDisplay_desktop_feature_div').get_text()\n",
    "    title=title.strip()\n",
    "    price = price.strip()[11:]\n",
    "    import datetime\n",
    "    today = datetime.date.today()\n",
    "\n",
    "    import csv\n",
    "    header = ['Title', 'Price', 'Date']\n",
    "    data =[title, price, today]\n",
    "    \n",
    "    with open('AmazonWebScraperDataset.csv', 'a+', newline ='', encoding='UTF8') as f:\n",
    "        writer = csv.writer(f)\n",
    "        writer.writerow(data)"
   ]
  },
  {
   "cell_type": "code",
   "execution_count": 1,
   "id": "d739504c-f270-4a4f-9ab0-35386c52054d",
   "metadata": {},
   "outputs": [
    {
     "ename": "NameError",
     "evalue": "name 'price_check' is not defined",
     "output_type": "error",
     "traceback": [
      "\u001b[1;31m---------------------------------------------------------------------------\u001b[0m",
      "\u001b[1;31mNameError\u001b[0m                                 Traceback (most recent call last)",
      "Cell \u001b[1;32mIn[1], line 2\u001b[0m\n\u001b[0;32m      1\u001b[0m \u001b[38;5;28;01mwhile\u001b[39;00m(\u001b[38;5;28;01mTrue\u001b[39;00m):\n\u001b[1;32m----> 2\u001b[0m     price_check()\n\u001b[0;32m      3\u001b[0m     time\u001b[38;5;241m.\u001b[39msleep(\u001b[38;5;241m5\u001b[39m)\n",
      "\u001b[1;31mNameError\u001b[0m: name 'price_check' is not defined"
     ]
    }
   ],
   "source": [
    "#Run the data for 30 sec\n",
    "while(True):\n",
    "    price_check()\n",
    "    time.sleep(86400)"
   ]
  },
  {
   "cell_type": "code",
   "execution_count": 3,
   "id": "4dd670b5-e593-4f52-9519-eb136c6cdce9",
   "metadata": {},
   "outputs": [
    {
     "name": "stdout",
     "output_type": "stream",
     "text": [
      "                                                Title  Price        Date\n",
      "0   POXIMI Women Winter Earmuffs Girl Ski Adjustab...  26.99  2025-02-26\n",
      "1   POXIMI Women Winter Earmuffs Girl Ski Adjustab...  26.99  2025-02-26\n",
      "2   POXIMI Women Winter Earmuffs Girl Ski Adjustab...  26.99  2025-02-26\n",
      "3   POXIMI Women Winter Earmuffs Girl Ski Adjustab...  26.99  2025-02-26\n",
      "4   POXIMI Women Winter Earmuffs Girl Ski Adjustab...  26.99  2025-02-26\n",
      "5   POXIMI Women Winter Earmuffs Girl Ski Adjustab...  26.99  2025-02-26\n",
      "6   POXIMI Women Winter Earmuffs Girl Ski Adjustab...  26.99  2025-02-26\n",
      "7   POXIMI Women Winter Earmuffs Girl Ski Adjustab...  26.99  2025-02-26\n",
      "8   POXIMI Women Winter Earmuffs Girl Ski Adjustab...  26.99  2025-02-26\n",
      "9   POXIMI Women Winter Earmuffs Girl Ski Adjustab...  26.99  2025-02-26\n",
      "10  POXIMI Women Winter Earmuffs Girl Ski Adjustab...  26.99  2025-02-26\n",
      "11  POXIMI Women Winter Earmuffs Girl Ski Adjustab...  26.99  2025-02-26\n",
      "12  POXIMI Women Winter Earmuffs Girl Ski Adjustab...  26.99  2025-02-26\n",
      "13  POXIMI Women Winter Earmuffs Girl Ski Adjustab...  26.99  2025-02-26\n",
      "14  POXIMI Women Winter Earmuffs Girl Ski Adjustab...  26.99  2025-02-26\n",
      "15  POXIMI Women Winter Earmuffs Girl Ski Adjustab...  26.99  2025-02-26\n",
      "16  POXIMI Women Winter Earmuffs Girl Ski Adjustab...  26.99  2025-02-26\n",
      "17  POXIMI Women Winter Earmuffs Girl Ski Adjustab...  26.99  2025-02-26\n",
      "18  POXIMI Women Winter Earmuffs Girl Ski Adjustab...  26.99  2025-02-26\n",
      "19  POXIMI Women Winter Earmuffs Girl Ski Adjustab...  26.99  2025-02-26\n",
      "20  POXIMI Women Winter Earmuffs Girl Ski Adjustab...  26.99  2025-02-26\n",
      "21  POXIMI Women Winter Earmuffs Girl Ski Adjustab...  26.99  2025-02-26\n",
      "22  POXIMI Women Winter Earmuffs Girl Ski Adjustab...  26.99  2025-02-26\n",
      "23  POXIMI Women Winter Earmuffs Girl Ski Adjustab...  26.99  2025-02-26\n",
      "24  POXIMI Women Winter Earmuffs Girl Ski Adjustab...  26.99  2025-02-26\n",
      "25  POXIMI Women Winter Earmuffs Girl Ski Adjustab...  26.99  2025-02-26\n",
      "26  POXIMI Women Winter Earmuffs Girl Ski Adjustab...  26.99  2025-02-26\n",
      "27  POXIMI Women Winter Earmuffs Girl Ski Adjustab...  26.99  2025-02-26\n",
      "28  POXIMI Women Winter Earmuffs Girl Ski Adjustab...  26.99  2025-02-26\n",
      "29  POXIMI Women Winter Earmuffs Girl Ski Adjustab...  26.99  2025-02-26\n",
      "30  POXIMI Women Winter Earmuffs Girl Ski Adjustab...  26.99  2025-02-26\n",
      "31  POXIMI Women Winter Earmuffs Girl Ski Adjustab...  26.99  2025-02-26\n",
      "32  POXIMI Women Winter Earmuffs Girl Ski Adjustab...  26.99  2025-02-26\n",
      "33  POXIMI Women Winter Earmuffs Girl Ski Adjustab...  26.99  2025-02-26\n",
      "34  POXIMI Women Winter Earmuffs Girl Ski Adjustab...  26.99  2025-02-26\n",
      "35  POXIMI Women Winter Earmuffs Girl Ski Adjustab...  26.99  2025-02-26\n",
      "36  POXIMI Women Winter Earmuffs Girl Ski Adjustab...  26.99  2025-02-26\n",
      "37  POXIMI Women Winter Earmuffs Girl Ski Adjustab...  26.99  2025-02-26\n",
      "38  POXIMI Women Winter Earmuffs Girl Ski Adjustab...  26.99  2025-02-26\n",
      "39  POXIMI Women Winter Earmuffs Girl Ski Adjustab...  26.99  2025-02-26\n",
      "40  POXIMI Women Winter Earmuffs Girl Ski Adjustab...  26.99  2025-02-26\n",
      "41  POXIMI Women Winter Earmuffs Girl Ski Adjustab...  26.99  2025-02-26\n",
      "42  POXIMI Women Winter Earmuffs Girl Ski Adjustab...  26.99  2025-02-26\n",
      "43  POXIMI Women Winter Earmuffs Girl Ski Adjustab...  26.99  2025-02-26\n",
      "44  POXIMI Women Winter Earmuffs Girl Ski Adjustab...  26.99  2025-02-26\n",
      "45  POXIMI Women Winter Earmuffs Girl Ski Adjustab...  26.99  2025-02-26\n"
     ]
    }
   ],
   "source": [
    "#read the data \n",
    "import pandas as pd\n",
    "df = pd.read_csv(r'C:\\Users\\rreng\\AmazonWebScraperDataset.csv')\n",
    "print(df)"
   ]
  },
  {
   "cell_type": "code",
   "execution_count": null,
   "id": "54dee677-fae8-4060-945c-ac8fa2b75149",
   "metadata": {},
   "outputs": [],
   "source": []
  }
 ],
 "metadata": {
  "kernelspec": {
   "display_name": "Python [conda env:base] *",
   "language": "python",
   "name": "conda-base-py"
  },
  "language_info": {
   "codemirror_mode": {
    "name": "ipython",
    "version": 3
   },
   "file_extension": ".py",
   "mimetype": "text/x-python",
   "name": "python",
   "nbconvert_exporter": "python",
   "pygments_lexer": "ipython3",
   "version": "3.12.7"
  }
 },
 "nbformat": 4,
 "nbformat_minor": 5
}
