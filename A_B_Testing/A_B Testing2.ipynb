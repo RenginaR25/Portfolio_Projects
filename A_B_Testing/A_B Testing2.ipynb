{
 "cells": [
  {
   "cell_type": "markdown",
   "id": "cb982bd5-b46c-47a6-8deb-227f1b0a48ab",
   "metadata": {},
   "source": [
    "# AB Testing\n",
    "Conduct an AB test to choose an action to improve an existing product. For this, we will define functions that estimate the relevant information out of the samples, compute the relevant statistic given each case and take a decision on whether to (or not) reject the null hypothesis."
   ]
  },
  {
   "cell_type": "code",
   "execution_count": 75,
   "id": "d0bc864f-3b7f-44e8-8da9-d967ecf69637",
   "metadata": {},
   "outputs": [],
   "source": [
    "import numpy as np\n",
    "import pandas as pd\n",
    "from scipy.stats import norm\n",
    "import scipy.stats as stats\n",
    "import seaborn as sns\n",
    "import matplotlib.pyplot as plt\n",
    "from dataclasses import dataclass\n",
    "\n",
    "color_pal = sns.color_palette()"
   ]
  },
  {
   "cell_type": "code",
   "execution_count": 203,
   "id": "d0a55c0e-64eb-4d87-b78c-f59a47836557",
   "metadata": {},
   "outputs": [
    {
     "data": {
      "text/html": [
       "<div>\n",
       "<style scoped>\n",
       "    .dataframe tbody tr th:only-of-type {\n",
       "        vertical-align: middle;\n",
       "    }\n",
       "\n",
       "    .dataframe tbody tr th {\n",
       "        vertical-align: top;\n",
       "    }\n",
       "\n",
       "    .dataframe thead th {\n",
       "        text-align: right;\n",
       "    }\n",
       "</style>\n",
       "<table border=\"1\" class=\"dataframe\">\n",
       "  <thead>\n",
       "    <tr style=\"text-align: right;\">\n",
       "      <th></th>\n",
       "      <th>user_id</th>\n",
       "      <th>click</th>\n",
       "      <th>group</th>\n",
       "      <th>timestamp</th>\n",
       "    </tr>\n",
       "  </thead>\n",
       "  <tbody>\n",
       "    <tr>\n",
       "      <th>0</th>\n",
       "      <td>1</td>\n",
       "      <td>1</td>\n",
       "      <td>exp</td>\n",
       "      <td>2024-01-01 00:00:00</td>\n",
       "    </tr>\n",
       "    <tr>\n",
       "      <th>1</th>\n",
       "      <td>2</td>\n",
       "      <td>0</td>\n",
       "      <td>exp</td>\n",
       "      <td>2024-01-01 00:01:00</td>\n",
       "    </tr>\n",
       "    <tr>\n",
       "      <th>2</th>\n",
       "      <td>3</td>\n",
       "      <td>1</td>\n",
       "      <td>exp</td>\n",
       "      <td>2024-01-01 00:02:00</td>\n",
       "    </tr>\n",
       "    <tr>\n",
       "      <th>3</th>\n",
       "      <td>4</td>\n",
       "      <td>0</td>\n",
       "      <td>exp</td>\n",
       "      <td>2024-01-01 00:03:00</td>\n",
       "    </tr>\n",
       "    <tr>\n",
       "      <th>4</th>\n",
       "      <td>5</td>\n",
       "      <td>1</td>\n",
       "      <td>exp</td>\n",
       "      <td>2024-01-01 00:04:00</td>\n",
       "    </tr>\n",
       "    <tr>\n",
       "      <th>5</th>\n",
       "      <td>6</td>\n",
       "      <td>0</td>\n",
       "      <td>exp</td>\n",
       "      <td>2024-01-01 00:05:00</td>\n",
       "    </tr>\n",
       "    <tr>\n",
       "      <th>6</th>\n",
       "      <td>7</td>\n",
       "      <td>1</td>\n",
       "      <td>exp</td>\n",
       "      <td>2024-01-01 00:06:00</td>\n",
       "    </tr>\n",
       "    <tr>\n",
       "      <th>7</th>\n",
       "      <td>8</td>\n",
       "      <td>1</td>\n",
       "      <td>exp</td>\n",
       "      <td>2024-01-01 00:07:00</td>\n",
       "    </tr>\n",
       "    <tr>\n",
       "      <th>8</th>\n",
       "      <td>9</td>\n",
       "      <td>0</td>\n",
       "      <td>exp</td>\n",
       "      <td>2024-01-01 00:08:00</td>\n",
       "    </tr>\n",
       "    <tr>\n",
       "      <th>9</th>\n",
       "      <td>10</td>\n",
       "      <td>0</td>\n",
       "      <td>exp</td>\n",
       "      <td>2024-01-01 00:09:00</td>\n",
       "    </tr>\n",
       "  </tbody>\n",
       "</table>\n",
       "</div>"
      ],
      "text/plain": [
       "   user_id  click group            timestamp\n",
       "0        1      1   exp  2024-01-01 00:00:00\n",
       "1        2      0   exp  2024-01-01 00:01:00\n",
       "2        3      1   exp  2024-01-01 00:02:00\n",
       "3        4      0   exp  2024-01-01 00:03:00\n",
       "4        5      1   exp  2024-01-01 00:04:00\n",
       "5        6      0   exp  2024-01-01 00:05:00\n",
       "6        7      1   exp  2024-01-01 00:06:00\n",
       "7        8      1   exp  2024-01-01 00:07:00\n",
       "8        9      0   exp  2024-01-01 00:08:00\n",
       "9       10      0   exp  2024-01-01 00:09:00"
      ]
     },
     "execution_count": 203,
     "metadata": {},
     "output_type": "execute_result"
    }
   ],
   "source": [
    "# Load the data \n",
    "data = pd.read_csv(\"ab_test_click_data.csv\")\n",
    "data.head(10)"
   ]
  },
  {
   "cell_type": "code",
   "execution_count": 45,
   "id": "6af2597c-1095-450b-9db3-5f969c6716b9",
   "metadata": {},
   "outputs": [
    {
     "data": {
      "text/html": [
       "<div>\n",
       "<style scoped>\n",
       "    .dataframe tbody tr th:only-of-type {\n",
       "        vertical-align: middle;\n",
       "    }\n",
       "\n",
       "    .dataframe tbody tr th {\n",
       "        vertical-align: top;\n",
       "    }\n",
       "\n",
       "    .dataframe thead th {\n",
       "        text-align: right;\n",
       "    }\n",
       "</style>\n",
       "<table border=\"1\" class=\"dataframe\">\n",
       "  <thead>\n",
       "    <tr style=\"text-align: right;\">\n",
       "      <th></th>\n",
       "      <th>user_id</th>\n",
       "      <th>click</th>\n",
       "    </tr>\n",
       "  </thead>\n",
       "  <tbody>\n",
       "    <tr>\n",
       "      <th>count</th>\n",
       "      <td>20000.000000</td>\n",
       "      <td>20000.000000</td>\n",
       "    </tr>\n",
       "    <tr>\n",
       "      <th>mean</th>\n",
       "      <td>10000.500000</td>\n",
       "      <td>0.405250</td>\n",
       "    </tr>\n",
       "    <tr>\n",
       "      <th>std</th>\n",
       "      <td>5773.647028</td>\n",
       "      <td>0.490953</td>\n",
       "    </tr>\n",
       "    <tr>\n",
       "      <th>min</th>\n",
       "      <td>1.000000</td>\n",
       "      <td>0.000000</td>\n",
       "    </tr>\n",
       "    <tr>\n",
       "      <th>25%</th>\n",
       "      <td>5000.750000</td>\n",
       "      <td>0.000000</td>\n",
       "    </tr>\n",
       "    <tr>\n",
       "      <th>50%</th>\n",
       "      <td>10000.500000</td>\n",
       "      <td>0.000000</td>\n",
       "    </tr>\n",
       "    <tr>\n",
       "      <th>75%</th>\n",
       "      <td>15000.250000</td>\n",
       "      <td>1.000000</td>\n",
       "    </tr>\n",
       "    <tr>\n",
       "      <th>max</th>\n",
       "      <td>20000.000000</td>\n",
       "      <td>1.000000</td>\n",
       "    </tr>\n",
       "  </tbody>\n",
       "</table>\n",
       "</div>"
      ],
      "text/plain": [
       "            user_id         click\n",
       "count  20000.000000  20000.000000\n",
       "mean   10000.500000      0.405250\n",
       "std     5773.647028      0.490953\n",
       "min        1.000000      0.000000\n",
       "25%     5000.750000      0.000000\n",
       "50%    10000.500000      0.000000\n",
       "75%    15000.250000      1.000000\n",
       "max    20000.000000      1.000000"
      ]
     },
     "execution_count": 45,
     "metadata": {},
     "output_type": "execute_result"
    }
   ],
   "source": [
    "data.describe()"
   ]
  },
  {
   "cell_type": "code",
   "execution_count": 47,
   "id": "8cd7411b-0748-4c88-ad9b-cdf4937995f0",
   "metadata": {},
   "outputs": [
    {
     "data": {
      "image/png": "[encoded data removed]",
      "text/plain": [
       "<Figure size 1000x600 with 1 Axes>"
      ]
     },
     "metadata": {},
     "output_type": "display_data"
    }
   ],
   "source": [
    "# Plot the data\n",
    "palette = {0: 'yellow', 1: 'black'}\n",
    "plt.figure(figsize = (10,6))\n",
    "ax = sns.countplot(x='group', hue = 'click', data = data, palette = palette)\n",
    "plt.title('Click Distribution in Experimental and Control Groups')\n",
    "plt.xlabel('Group')\n",
    "plt.legend(title='Click', labels=['No', 'Yes'])\n",
    "\n",
    "#Calculate the percentages and annotate the bars\n",
    "group_counts = data.groupby(['group']).size()\n",
    "group_click_counts = data.groupby(['group', 'click']).size().reset_index(name='count')\n",
    "\n",
    "for p in ax.patches:\n",
    "    height = p.get_height()\n",
    "    #Find the group and click type for the current bar\n",
    "    group = 'exp' if p.get_x() <0.5 else 'con'\n",
    "    click = 1 if p.get_x() % 1 > 0.5 else 0\n",
    "    total = group_counts.loc[group]\n",
    "    percentage = 100 * height /total\n",
    "    ax.text(p.get_x() + p.get_width() / 2., height + 5 , f'{percentage: .1f}%', ha =\"center\", color = 'black', fontsize=10)\n",
    "\n",
    "plt.tight_layout()\n",
    "plt.show()\n"
   ]
  },
  {
   "cell_type": "code",
   "execution_count": 89,
   "id": "0979261a-2cec-479e-88df-68649738294d",
   "metadata": {},
   "outputs": [
    {
     "name": "stdout",
     "output_type": "stream",
     "text": [
      "10000 users click the 'Free Trial' button with an average CTR of 0.61 \n",
      "\n",
      "10000 users click the 'Enroll Now' button with an average CTR of 0.20 \n"
     ]
    }
   ],
   "source": [
    "# Separate the data from the two groups (sd stands for session duration)\n",
    "experimental = data[data[\"group\"]==\"exp\"][\"click\"]\n",
    "control = data[data[\"group\"]==\"con\"][\"click\"]\n",
    "\n",
    "print(f\"{len(experimental)} users click the 'Free Trial' button with an average CTR of {experimental.mean():.2f} \\n\")\n",
    "print(f\"{len(control)} users click the 'Enroll Now' button with an average CTR of {control.mean():.2f} \")"
   ]
  },
  {
   "cell_type": "code",
   "execution_count": 51,
   "id": "2dba8363-8681-4554-815b-8f342f3921af",
   "metadata": {},
   "outputs": [],
   "source": [
    "@dataclass\n",
    "class estimation_metrics_cont:\n",
    "    n: int\n",
    "    xbar: float\n",
    "    s: float\n",
    "        \n",
    "    def __repr__(self):\n",
    "        return f\"sample_params(n={self.n}, xbar={self.xbar:.3f}, s={self.s:.3f})\""
   ]
  },
  {
   "cell_type": "code",
   "execution_count": 53,
   "id": "d6dc7b7e-f714-406e-b07d-d83552ddcf97",
   "metadata": {},
   "outputs": [],
   "source": [
    "#compute_continuous_metrics\n",
    "def compute_continuous_metrics(data):\n",
    "    \"\"\"Computes the relevant metrics out of a sample for continuous data.\n",
    "\n",
    "    Args:\n",
    "        data (pandas.core.series.Series): The sample data. In this case the average click for each user.\n",
    "\n",
    "    Returns:\n",
    "        estimation_metrics_cont: The metrics saved in a dataclass instance.\n",
    "    \"\"\"\n",
    "    \n",
    "    ### START CODE HERE ###\n",
    "    metrics = estimation_metrics_cont( \n",
    "        n=len(data),\n",
    "        xbar=np.mean(data),\n",
    "        s=np.std(data, ddof=1)\n",
    "    ) \n",
    "    ### END CODE HERE ###\n",
    "    \n",
    "    return metrics"
   ]
  },
  {
   "cell_type": "code",
   "execution_count": 57,
   "id": "efdb0b0b-6108-44f7-a1a4-92d12fb6d970",
   "metadata": {},
   "outputs": [
    {
     "name": "stdout",
     "output_type": "stream",
     "text": [
      "n=10000, xbar=0.61 and s=0.49 for experimental data\n",
      "\n",
      "n=10000, xbar=0.20 and s=0.40 for control data\n"
     ]
    }
   ],
   "source": [
    "# Test the code\n",
    "experimental_metrics = compute_continuous_metrics(experimental)\n",
    "print(f\"n={experimental_metrics.n}, xbar={experimental_metrics.xbar:.2f} and s={experimental_metrics.s:.2f} for experimental data\\n\")\n",
    "\n",
    "control_metrics = compute_continuous_metrics(control)\n",
    "print(f\"n={control_metrics.n}, xbar={control_metrics.xbar:.2f} and s={control_metrics.s:.2f} for control data\")"
   ]
  },
  {
   "cell_type": "code",
   "execution_count": 59,
   "id": "ddc7b16c-a020-45ba-9790-d34529170ef5",
   "metadata": {},
   "outputs": [],
   "source": [
    "#Degrees of freedom\n",
    "def degrees_of_freedom(experimental_metrics, control_metrics):\n",
    "    \"\"\"Computes the degrees of freedom for two samples.\n",
    "\n",
    "    Args:\n",
    "        control_metrics (estimation_metrics_cont): The metrics for the control sample.\n",
    "        variation_metrics (estimation_metrics_cont): The metrics for the variation sample.\n",
    "\n",
    "    Returns:\n",
    "        numpy.float: The degrees of freedom.\n",
    "    \"\"\"\n",
    "    \n",
    "    ### START CODE HERE ###\n",
    "    \n",
    "    n1, s1 = experimental_metrics.n, experimental_metrics.s\n",
    "    n2, s2 = control_metrics.n, control_metrics.s\n",
    "    \n",
    "    \n",
    "    dof = np.square(np.square(s1)/n1 + np.square(s2)/n2)/((np.square(np.square(s1)/n1))/(n1-1) + (np.square(np.square(s2)/n2))/(n2-1))\n",
    "    \n",
    "    ### END CODE HERE ###\n",
    "    \n",
    "    \n",
    "    return dof"
   ]
  },
  {
   "cell_type": "code",
   "execution_count": 61,
   "id": "1a38e85e-2166-4f00-82a2-32cdf68f2b30",
   "metadata": {},
   "outputs": [
    {
     "name": "stdout",
     "output_type": "stream",
     "text": [
      "DoF for AB test samples: 19250.52\n"
     ]
    }
   ],
   "source": [
    "# Test your code\n",
    "dof = degrees_of_freedom(experimental_metrics, control_metrics)\n",
    "print(f\"DoF for AB test samples: {dof:.2f}\")"
   ]
  },
  {
   "cell_type": "code",
   "execution_count": 63,
   "id": "b54eb089-aaaa-45a0-867f-9199d2bfc5a1",
   "metadata": {},
   "outputs": [],
   "source": [
    "#t-statistic\n",
    "def t_statistic_diff_means(experimental_metrics, control_metrics):\n",
    "    \"\"\"Compute the t-statistic for the difference of two means.\n",
    "\n",
    "    Args:\n",
    "        control_metrics (estimation_metrics_cont): The metrics for the control sample.\n",
    "        variation_metrics (estimation_metrics_cont): The metrics for the variation sample.\n",
    "\n",
    "    Returns:\n",
    "        numpy.float: The value of the t-statistic.\n",
    "    \"\"\"\n",
    "    \n",
    "    ### START CODE HERE ###\n",
    "    \n",
    "    n1, xbar1, s1 = experimental_metrics.n,experimental_metrics.xbar, experimental_metrics.s\n",
    "    n2, xbar2, s2 = control_metrics.n,control_metrics.xbar, control_metrics.s\n",
    "    \n",
    "    t = ((xbar1 - xbar2) - 0)/np.sqrt(np.square(s1)/n1 + np.square(s2)/n2)\n",
    "    ### END CODE HERE ###\n",
    "    \n",
    "    return t"
   ]
  },
  {
   "cell_type": "code",
   "execution_count": 67,
   "id": "ced4b00e-e57a-43e1-88bf-a03d5faecf48",
   "metadata": {},
   "outputs": [
    {
     "name": "stdout",
     "output_type": "stream",
     "text": [
      "t statistic for AB test: 65.51\n"
     ]
    }
   ],
   "source": [
    "# Test the code\n",
    "t = t_statistic_diff_means(experimental_metrics, control_metrics)\n",
    "print(f\"t statistic for AB test: {t:.2f}\")"
   ]
  },
  {
   "cell_type": "code",
   "execution_count": 77,
   "id": "b0995215-0be8-48ef-96ab-daa2257bf06d",
   "metadata": {},
   "outputs": [],
   "source": [
    "#Determine if you should reject (or not) the null hypothesis\n",
    "#Compute the p-value given the degrees of freedom and multiply by 2 since this is a two-sided test.\n",
    "#If the p-value is lower to alpha then you should reject the null hypothes\n",
    "\n",
    "def reject_nh_t_statistic(t_statistic, dof, alpha=0.05):\n",
    "    \"\"\"Decide whether to reject (or not) the null hypothesis of the t-test.\n",
    "\n",
    "    Args:\n",
    "        t_statistic (numpy.float): The computed value of the t-statistic for the two samples.\n",
    "        dof (numpy.float): The computed degrees of freedom for the two samples.\n",
    "        alpha (float, optional): The desired level of significancy. Defaults to 0.05.\n",
    "\n",
    "    Returns:\n",
    "        bool: True if the null hypothesis should be rejected. False otherwise.\n",
    "    \"\"\"\n",
    "    \n",
    "    reject = False\n",
    "    ### START CODE HERE ###\n",
    "    p_value = 2*(1 - stats.t.cdf(abs(t_statistic), df=dof))\n",
    "    \n",
    "    if p_value < alpha:\n",
    "        reject = True\n",
    "    ### END CODE HERE ###\n",
    "        \n",
    "    return reject"
   ]
  },
  {
   "cell_type": "code",
   "execution_count": 79,
   "id": "8af4adbc-6797-44ba-9b3b-edec4d163294",
   "metadata": {},
   "outputs": [
    {
     "name": "stdout",
     "output_type": "stream",
     "text": [
      "The null hypothesis can be rejected at the 0.05 level of significance: True\n",
      "\n",
      "There is enough statistical evidence against H0.\n",
      "It can be concluded that there is a statistically significant difference between the means of the two samples.\n"
     ]
    }
   ],
   "source": [
    "# Test the code\n",
    "\n",
    "alpha = 0.05\n",
    "reject_nh = reject_nh_t_statistic(t, dof, alpha)\n",
    "\n",
    "print(f\"The null hypothesis can be rejected at the {alpha} level of significance: {reject_nh}\\n\")\n",
    "\n",
    "msg = \"\" if reject_nh else \" not\"\n",
    "print(f\"There is{msg} enough statistical evidence against H0.\\nIt can be concluded that there is{msg} a statistically significant difference between the means of the two samples.\")"
   ]
  },
  {
   "cell_type": "code",
   "execution_count": 123,
   "id": "4534390e-3fb3-46bf-ba8f-ccd2e32997c2",
   "metadata": {},
   "outputs": [
    {
     "data": {
      "text/html": [
       "<div>\n",
       "<style scoped>\n",
       "    .dataframe tbody tr th:only-of-type {\n",
       "        vertical-align: middle;\n",
       "    }\n",
       "\n",
       "    .dataframe tbody tr th {\n",
       "        vertical-align: top;\n",
       "    }\n",
       "\n",
       "    .dataframe thead th {\n",
       "        text-align: right;\n",
       "    }\n",
       "</style>\n",
       "<table border=\"1\" class=\"dataframe\">\n",
       "  <thead>\n",
       "    <tr style=\"text-align: right;\">\n",
       "      <th></th>\n",
       "      <th>user_id</th>\n",
       "      <th>click</th>\n",
       "      <th>group</th>\n",
       "      <th>timestamp</th>\n",
       "    </tr>\n",
       "  </thead>\n",
       "  <tbody>\n",
       "    <tr>\n",
       "      <th>14988</th>\n",
       "      <td>14989</td>\n",
       "      <td>0</td>\n",
       "      <td>con</td>\n",
       "      <td>NaN</td>\n",
       "    </tr>\n",
       "    <tr>\n",
       "      <th>14989</th>\n",
       "      <td>14990</td>\n",
       "      <td>0</td>\n",
       "      <td>con</td>\n",
       "      <td>NaN</td>\n",
       "    </tr>\n",
       "    <tr>\n",
       "      <th>14990</th>\n",
       "      <td>14991</td>\n",
       "      <td>0</td>\n",
       "      <td>con</td>\n",
       "      <td>NaN</td>\n",
       "    </tr>\n",
       "    <tr>\n",
       "      <th>14991</th>\n",
       "      <td>14992</td>\n",
       "      <td>0</td>\n",
       "      <td>con</td>\n",
       "      <td>NaN</td>\n",
       "    </tr>\n",
       "    <tr>\n",
       "      <th>14992</th>\n",
       "      <td>14993</td>\n",
       "      <td>0</td>\n",
       "      <td>con</td>\n",
       "      <td>NaN</td>\n",
       "    </tr>\n",
       "    <tr>\n",
       "      <th>14993</th>\n",
       "      <td>14994</td>\n",
       "      <td>1</td>\n",
       "      <td>con</td>\n",
       "      <td>NaN</td>\n",
       "    </tr>\n",
       "    <tr>\n",
       "      <th>14994</th>\n",
       "      <td>14995</td>\n",
       "      <td>0</td>\n",
       "      <td>con</td>\n",
       "      <td>NaN</td>\n",
       "    </tr>\n",
       "    <tr>\n",
       "      <th>14995</th>\n",
       "      <td>14996</td>\n",
       "      <td>0</td>\n",
       "      <td>con</td>\n",
       "      <td>NaN</td>\n",
       "    </tr>\n",
       "    <tr>\n",
       "      <th>14996</th>\n",
       "      <td>14997</td>\n",
       "      <td>0</td>\n",
       "      <td>con</td>\n",
       "      <td>NaN</td>\n",
       "    </tr>\n",
       "    <tr>\n",
       "      <th>14997</th>\n",
       "      <td>14998</td>\n",
       "      <td>0</td>\n",
       "      <td>con</td>\n",
       "      <td>NaN</td>\n",
       "    </tr>\n",
       "  </tbody>\n",
       "</table>\n",
       "</div>"
      ],
      "text/plain": [
       "       user_id  click group timestamp\n",
       "14988    14989      0   con       NaN\n",
       "14989    14990      0   con       NaN\n",
       "14990    14991      0   con       NaN\n",
       "14991    14992      0   con       NaN\n",
       "14992    14993      0   con       NaN\n",
       "14993    14994      1   con       NaN\n",
       "14994    14995      0   con       NaN\n",
       "14995    14996      0   con       NaN\n",
       "14996    14997      0   con       NaN\n",
       "14997    14998      0   con       NaN"
      ]
     },
     "execution_count": 123,
     "metadata": {},
     "output_type": "execute_result"
    }
   ],
   "source": [
    "#Read the modified data set\n",
    "data1 = pd.read_csv(\"ab_test_click_data_modified.csv\")\n",
    "data1.tail(10)"
   ]
  },
  {
   "cell_type": "code",
   "execution_count": 129,
   "id": "51502af2-61a0-42a2-a168-cf581793f69f",
   "metadata": {},
   "outputs": [
    {
     "name": "stdout",
     "output_type": "stream",
     "text": [
      "10000 users click the 'Free Trial' button with an average CTR of 0.6116 \n",
      "\n",
      "4998 users click the 'Enroll Now' button with an average CTR of 0.2021 \n"
     ]
    }
   ],
   "source": [
    "experimental_data = data1[data1[\"group\"]==\"exp\"][\"click\"]\n",
    "control_data = data1[data1[\"group\"]==\"con\"][\"click\"]\n",
    "\n",
    "print(f\"{len(experimental_data)} users click the 'Free Trial' button with an average CTR of {experimental_data.mean():.4f} \\n\")\n",
    "print(f\"{len(control_data)} users click the 'Enroll Now' button with an average CTR of {control_data.mean():.4f} \")"
   ]
  },
  {
   "cell_type": "code",
   "execution_count": null,
   "id": "6950ce04-cbc2-4aa8-a7c0-8245076a96a5",
   "metadata": {},
   "outputs": [],
   "source": [
    "## Compute proportion metrics\n",
    "- $n$ stands for the number of users in the data\n",
    "- $x$ stands for the number of users who converted in the data\n",
    "- $p$ stands for CTR (users who click/total users)"
   ]
  },
  {
   "cell_type": "code",
   "execution_count": 131,
   "id": "6891fde3-5b4b-425e-bbaa-3f986bd74594",
   "metadata": {},
   "outputs": [],
   "source": [
    "@dataclass\n",
    "class estimation_metrics_prop:\n",
    "    n: int\n",
    "    x: int\n",
    "    p: float\n",
    "        \n",
    "    def __repr__(self):\n",
    "        return f\"sample_params(n={self.n}, x={self.x}, p={self.p:.3f})\""
   ]
  },
  {
   "cell_type": "code",
   "execution_count": 133,
   "id": "f2d2d43c-77bd-4198-b2eb-35c107ad1273",
   "metadata": {},
   "outputs": [],
   "source": [
    "\n",
    "def compute_proportion_metrics(data1):\n",
    "    \"\"\"Computes the relevant metrics out of a sample for proportion-like data.\n",
    "\n",
    "    Args:\n",
    "        data (pandas.core.series.Series): The sample data. In this case 1 if the user converted and 0 otherwise.\n",
    "\n",
    "    Returns:\n",
    "        estimation_metrics_prop: The metrics saved in a dataclass instance.\n",
    "    \"\"\"\n",
    "    \n",
    "    ### START CODE HERE ###\n",
    "    metrics = estimation_metrics_prop( \n",
    "        n=len(data1),\n",
    "        x=data1.sum(),\n",
    "        p=data1.mean()\n",
    "    )\n",
    "    ### END CODE HERE ###\n",
    "    \n",
    "    return metrics\n"
   ]
  },
  {
   "cell_type": "code",
   "execution_count": 148,
   "id": "c8cfc42a-c2a6-4855-a07e-b2316f56525e",
   "metadata": {},
   "outputs": [
    {
     "name": "stdout",
     "output_type": "stream",
     "text": [
      "n=10000, x=6116 and p=0.6116 for experimental data\n",
      "\n",
      "n=4998, x=1010 and p=0.2021 for control data\n"
     ]
    }
   ],
   "source": [
    "experimental_metrics = compute_proportion_metrics(experimental_data)\n",
    "print(f\"n={experimental_metrics.n}, x={experimental_metrics.x} and p={experimental_metrics.p:.4f} for experimental data\\n\")\n",
    "\n",
    "control_metrics = compute_proportion_metrics(control_data)\n",
    "print(f\"n={control_metrics.n}, x={control_metrics.x} and p={control_metrics.p:.4f} for control data\")"
   ]
  },
  {
   "cell_type": "markdown",
   "id": "b444f5ec-787e-4065-b6e2-c2182ed540c7",
   "metadata": {},
   "source": [
    "## Estimate pooled_proportion\n",
    "\n",
    "Now that you have a way of computing all necessary metrics for each sample it is time to create a way to compute the pooled proportion. For this fill the `pooled_proportion` function below. Notice that this function will receive two instances of the `estimation_metrics_prop` class.\n",
    "\n",
    "Remember that the pooled proportion can be computed like this: \n",
    "\n",
    "$\\hat{p} = \\frac{x_1 + x_2}{n_1 + n_2}$"
   ]
  },
  {
   "cell_type": "code",
   "execution_count": 146,
   "id": "b6ec4683-6985-4ad3-9e6a-70b49e3afb4e",
   "metadata": {},
   "outputs": [],
   "source": [
    "def pooled_proportion(control_metrics, variation_metrics):\n",
    "    \"\"\"Compute the pooled proportion for the two samples.\n",
    "\n",
    "    Args:\n",
    "        control_metrics (estimation_metrics_prop): The metrics for the control sample.\n",
    "        variation_metrics (estimation_metrics_prop): The metrics for the variation sample.\n",
    "\n",
    "    Returns:\n",
    "        numpy.float: The pooled proportion.\n",
    "    \"\"\"\n",
    "    \n",
    "    ### START CODE HERE ###\n",
    "    \n",
    "    x1, n1 = experimental_metrics.x, experimental_metrics.n\n",
    "    x2, n2 = control_metrics.x, control_metrics.n\n",
    "    \n",
    "    pp = (x1 + x2)/(n1 + n2)\n",
    "    \n",
    "    ### END CODE HERE ###\n",
    "    \n",
    "    return pp"
   ]
  },
  {
   "cell_type": "code",
   "execution_count": 141,
   "id": "94281edc-e7ae-42dc-932e-fa07a0ea46a3",
   "metadata": {},
   "outputs": [
    {
     "name": "stdout",
     "output_type": "stream",
     "text": [
      "pooled proportion for AB test samples: 0.6116\n"
     ]
    }
   ],
   "source": [
    "# Test the code\n",
    "pp = pooled_proportion(experimental_metrics, control_metrics)\n",
    "print(f\"pooled proportion for AB test samples: {pp:.4f}\")"
   ]
  },
  {
   "cell_type": "markdown",
   "id": "34e8212d-9a86-4374-bb27-14280f44816d",
   "metadata": {},
   "source": [
    "## Calculate z-statistic\n",
    "\n",
    "Now you have everything you need to calculate the z-statistic for the difference between proportions. Remember that this statistic can be computed like this:\n",
    "\n",
    "$$ z = \\frac{\\hat{p}_1 - \\hat{p}_2}{\\sqrt{\\hat{p}(1-\\hat{p})\\left(\\frac{1}{n_1} + \\frac{1}{n_2}\\right)}}$$\n",
    "\n",
    "where $\\hat{p}$ is the pooled proportion: $\\hat{p} = \\frac{x_1 + x_2}{n_1 + n_2}$"
   ]
  },
  {
   "cell_type": "code",
   "execution_count": 161,
   "id": "566c5cbe-d180-4186-acca-36b3ab923a01",
   "metadata": {},
   "outputs": [],
   "source": [
    "def z_statistic_diff_proportions(experimental_metrics, control_metrics):\n",
    "    \"\"\"Compute the z-statistic for the difference of two proportions.\n",
    "\n",
    "    Args:\n",
    "        experimental_metrics (estimation_metrics_prop): The metrics for the experimental sample.\n",
    "        control_metrics (estimation_metrics_prop): The metrics for the control sample.\n",
    "\n",
    "    Returns:\n",
    "        numpy.float: The z-statistic.\n",
    "    \"\"\"\n",
    "    \n",
    "    ### START CODE HERE ###\n",
    "    \n",
    "    pp = pooled_proportion(experimental_metrics, control_metrics)\n",
    "    \n",
    "    n1, p1 = experimental_metrics.n, experimental_metrics.p\n",
    "    n2, p2 = control_metrics.n, control_metrics.p\n",
    "    \n",
    "    z = (p1 - p2)/np.sqrt(pp*(1-pp)*(1/n1 + 1/n2))\n",
    "    \n",
    "    ### END CODE HERE ###\n",
    "    \n",
    "    \n",
    "    return z"
   ]
  },
  {
   "cell_type": "code",
   "execution_count": 163,
   "id": "40db909e-3ba0-4926-874d-8b591080dc69",
   "metadata": {},
   "outputs": [
    {
     "name": "stdout",
     "output_type": "stream",
     "text": [
      "z statistic for AB test: 48.5045\n"
     ]
    }
   ],
   "source": [
    "z = z_statistic_diff_proportions(experimental_metrics, control_metrics)\n",
    "print(f\"z statistic for AB test: {z:.4f}\")"
   ]
  },
  {
   "cell_type": "code",
   "execution_count": 165,
   "id": "8c952860-9021-4823-a00c-aadf463edd32",
   "metadata": {},
   "outputs": [],
   "source": [
    "def reject_nh_z_statistic(z_statistic, alpha):\n",
    "    \"\"\"Decide whether to reject (or not) the null hypothesis of the z-test.\n",
    "\n",
    "    Args:\n",
    "        z_statistic (numpy.float): The computed value of the z-statistic for the two proportions.\n",
    "        alpha (float, optional): The desired level of significancy. Defaults to 0.05.\n",
    "\n",
    "    Returns:\n",
    "        bool: True if the null hypothesis should be rejected. False otherwise.\n",
    "    \"\"\"\n",
    "    \n",
    "    reject = False\n",
    "    ### START CODE HERE ###\n",
    "    p_value = 2*(1-stats.norm.cdf(abs(z_statistic)))\n",
    "    \n",
    "    if p_value < alpha:\n",
    "        reject = True\n",
    "    ### END CODE HERE ###\n",
    "        \n",
    "    return reject"
   ]
  },
  {
   "cell_type": "code",
   "execution_count": 167,
   "id": "67455558-5684-4405-97eb-6b00882a78f9",
   "metadata": {},
   "outputs": [
    {
     "name": "stdout",
     "output_type": "stream",
     "text": [
      "The null hypothesis can be rejected at the 0.05 level of significance: True\n",
      "\n",
      "There is enough statistical evidence against H0.\n",
      "Thus it can be concluded that there is a statistically significant difference between the two proportions.\n"
     ]
    }
   ],
   "source": [
    "alpha = 0.05\n",
    "reject_nh = reject_nh_z_statistic(z, alpha)\n",
    "\n",
    "print(f\"The null hypothesis can be rejected at the {alpha} level of significance: {reject_nh}\\n\")\n",
    "\n",
    "msg = \"\" if reject_nh else \" not\"\n",
    "print(f\"There is{msg} enough statistical evidence against H0.\\nThus it can be concluded that there is{msg} a statistically significant difference between the two proportions.\")"
   ]
  },
  {
   "cell_type": "markdown",
   "id": "b015b010-9a84-489a-817e-d1b3fd51cd3d",
   "metadata": {},
   "source": [
    "## Confidence Interval\n",
    "\n",
    "Create confidence intervals for the CTRs of each of the two groups. Can compute such an interval for a proportion like this:\n",
    "\n",
    "$$ \\hat{p} \\pm z_{1-\\alpha/2} \\sqrt{\\frac{\\hat{p}(1-\\hat{p})}{n}}$$\n",
    "\n",
    "Complete the `confidence_interval_proportion` function below. This function will receive the metrics of one of the groups and should return the lower and upper values of the confidence interval.\n"
   ]
  },
  {
   "cell_type": "code",
   "execution_count": 178,
   "id": "bc298a59-9875-4c12-8f94-ae5ad3bf9b3c",
   "metadata": {},
   "outputs": [],
   "source": [
    "def confidence_interval_proportion(metrics, alpha=0.05):\n",
    "    \"\"\"Compute the confidende interval for a proportion-like sample.\n",
    "\n",
    "    Args:\n",
    "        metrics (estimation_metrics_prop): The metrics for the sample.\n",
    "        alpha (float, optional): The desired level of significance. Defaults to 0.05.\n",
    "\n",
    "    Returns:\n",
    "        (numpy.float, numpy.float): The lower and upper bounds of the confidence interval.\n",
    "    \"\"\"\n",
    "    \n",
    "    ### START CODE HERE ###\n",
    "    n, p = metrics.n, metrics.p\n",
    "    \n",
    "    distance = stats.norm.ppf(1-alpha/2)*np.sqrt(p*(1-p)/n)\n",
    "    \n",
    "    lower = p - distance\n",
    "    upper = p + distance\n",
    "    ### END CODE HERE ###\n",
    "    \n",
    "    return lower, upper"
   ]
  },
  {
   "cell_type": "code",
   "execution_count": 184,
   "id": "53bc861c-190b-4838-8aca-47d750c785e0",
   "metadata": {},
   "outputs": [
    {
     "name": "stdout",
     "output_type": "stream",
     "text": [
      "Confidence interval for experimental group: [0.602, 0.621]\n",
      "\n",
      "Confidence interval for control group: [0.191, 0.213]\n"
     ]
    }
   ],
   "source": [
    "e_lower, e_upper = confidence_interval_proportion(experimental_metrics)\n",
    "print(f\"Confidence interval for experimental group: [{e_lower:.3f}, {e_upper:.3f}]\\n\")\n",
    "\n",
    "c_lower, c_upper = confidence_interval_proportion(control_metrics)\n",
    "print(f\"Confidence interval for control group: [{c_lower:.3f}, {c_upper:.3f}]\")"
   ]
  },
  {
   "cell_type": "code",
   "execution_count": 188,
   "id": "ce3b5ea1-6f30-43bf-9716-1a76b9fdabd7",
   "metadata": {},
   "outputs": [],
   "source": [
    "#Testing for Practical Significance in A/B Testing\n",
    "def is_practically_significant(delta, lower_bound_CI):\n",
    "    \"\"\"\n",
    "    Assess if the difference between the control and experimental significant using the minimum detectable effect (MDE)\n",
    "    Arguments:\n",
    "    -delta (float): Minimum Detectable Effect (MDE) considered for practical significant\n",
    "    \n",
    "    Returns:\n",
    "    -Prints whether the experiment has practical significance based on MDE and CI\n",
    "    \"\"\"\n",
    "\n",
    "    # Check if the lower bound of CI is greater than or equal to delta\n",
    "    \n",
    "    if  lower_bound_CI >= delta:\n",
    "        print(f\"The difference between control and experimental group is practically significant\")\n",
    "        There is a practical (large enough) significance; the control group is higher than the experimental group\n",
    "        return True\n",
    "    else:\n",
    "        print(\"We don't have practical significance!\")\n",
    "        return False\n"
   ]
  },
  {
   "cell_type": "code",
   "execution_count": 196,
   "id": "d024a69c-7f42-4289-a432-e232fdeaab49",
   "metadata": {},
   "outputs": [
    {
     "name": "stdout",
     "output_type": "stream",
     "text": [
      "The difference between control and experimental group is practically significant\n",
      "Lower Bound of 95% confidence interval for experimental group is: 0.602\n",
      "\n",
      "The difference between control and experimental group is practically significant\n",
      "Lower Bound of 95% confidence interval for control group is: 0.191\n"
     ]
    }
   ],
   "source": [
    "#Call the function\n",
    "delta=0.1 #Minimum Detectable Effect\n",
    "significance_control = is_practically_significant(delta, c_lower)\n",
    "print(f\"Lower Bound of 95% confidence interval for control group is: {c_lower:.3f}\")"
   ]
  },
  {
   "cell_type": "code",
   "execution_count": null,
   "id": "3b6b7d74-2ade-4443-ace2-69c8acd6cf89",
   "metadata": {},
   "outputs": [],
   "source": []
  }
 ],
 "metadata": {
  "kernelspec": {
   "display_name": "Python [conda env:base] *",
   "language": "python",
   "name": "conda-base-py"
  },
  "language_info": {
   "codemirror_mode": {
    "name": "ipython",
    "version": 3
   },
   "file_extension": ".py",
   "mimetype": "text/x-python",
   "name": "python",
   "nbconvert_exporter": "python",
   "pygments_lexer": "ipython3",
   "version": "3.12.7"
  }
 },
 "nbformat": 4,
 "nbformat_minor": 5
}
